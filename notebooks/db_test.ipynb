{
 "cells": [
  {
   "cell_type": "code",
   "execution_count": 22,
   "id": "6a756251-5bd1-4975-b470-796f4646290a",
   "metadata": {},
   "outputs": [],
   "source": [
    "from sqlite3 import DatabaseError, IntegrityError\n",
    "from typing import List\n",
    "\n",
    "from sqlalchemy import update, insert\n",
    "from sqlalchemy.orm import Session\n",
    "\n",
    "from data_vortex.rightmove_models import RightmoveRentalListing, Price, Currency, PriceUnit\n",
    "from data_vortex.database.models import RentalListing"
   ]
  },
  {
   "cell_type": "code",
   "execution_count": 2,
   "id": "c803fc3d-fc8e-4dd7-9f31-9d168d2dc8b8",
   "metadata": {},
   "outputs": [],
   "source": [
    "def create_listing(db: Session, rental_listing: RightmoveRentalListing):\n",
    "    listing_dict = rental_listing.to_orm_dict()\n",
    "    try:\n",
    "        existing_listing = (\n",
    "            db.query(RentalListing)\n",
    "            .filter(RentalListing.property_id == rental_listing.property_id)\n",
    "            .first()\n",
    "        )\n",
    "        if existing_listing:\n",
    "            # return RightmoveRentalListing(**existing_listing.dict())\n",
    "            pass\n",
    "        else:\n",
    "            db.execute(\n",
    "                insert(RentalListing),\n",
    "                listing_dict,\n",
    "            )\n",
    "    except IntegrityError as e:\n",
    "        db.rollback()\n",
    "        raise ValueError(f\"Integrity error: {e!s}\")\n",
    "    except DatabaseError as e:\n",
    "        db.rollback()\n",
    "        raise Exception(f\"Database error: {e!s}\")"
   ]
  },
  {
   "cell_type": "code",
   "execution_count": 13,
   "id": "6a908196-1316-4d46-bcc4-78dafb74109f",
   "metadata": {},
   "outputs": [],
   "source": [
    "from data_vortex.database.database import SessionLocal, create_database\n",
    "\n",
    "def get_db():\n",
    "    db = SessionLocal()\n",
    "    try:\n",
    "        yield db\n",
    "    finally:\n",
    "        db.close()\n",
    "        \n",
    "db = next(get_db())  # Get a session"
   ]
  },
  {
   "cell_type": "code",
   "execution_count": 14,
   "id": "8ca71c47-f9dc-43f9-9842-aaa0720c72ff",
   "metadata": {},
   "outputs": [],
   "source": [
    "existing_listing = (\n",
    "    db.query(RentalListing)\n",
    ")"
   ]
  },
  {
   "cell_type": "code",
   "execution_count": 15,
   "id": "289abf74-26b3-440d-86f0-9a09361c9f0a",
   "metadata": {},
   "outputs": [],
   "source": [
    "existing_listing.first()"
   ]
  },
  {
   "cell_type": "code",
   "execution_count": 25,
   "id": "889aafdd-1d70-425c-8d6b-96809e15cc24",
   "metadata": {},
   "outputs": [],
   "source": [
    "nl = RightmoveRentalListing(\n",
    "    property_id=\"123456\",\n",
    "    description=\"description\",\n",
    "    price=Price(price=100, currency=Currency.GBP, per=PriceUnit.PER_WEEK),\n",
    "    added_date=\"2020-02-01\",\n",
    "    address=\"123 Hornsey Lane Gardens, N6 5NX, London\",\n",
    "    postcode=\"N6 5NX\",\n",
    ")"
   ]
  },
  {
   "cell_type": "code",
   "execution_count": 26,
   "id": "5352bf59-a7d1-4b9b-a88f-6af3f184c186",
   "metadata": {},
   "outputs": [],
   "source": [
    "create_listing(db, rental_listing=nl)"
   ]
  },
  {
   "cell_type": "code",
   "execution_count": null,
   "id": "d0099706-eae1-4dd6-be10-eb54676e3839",
   "metadata": {},
   "outputs": [],
   "source": []
  }
 ],
 "metadata": {
  "kernelspec": {
   "display_name": "Python 3 (ipykernel)",
   "language": "python",
   "name": "python3"
  },
  "language_info": {
   "codemirror_mode": {
    "name": "ipython",
    "version": 3
   },
   "file_extension": ".py",
   "mimetype": "text/x-python",
   "name": "python",
   "nbconvert_exporter": "python",
   "pygments_lexer": "ipython3",
   "version": "3.10.4"
  }
 },
 "nbformat": 4,
 "nbformat_minor": 5
}
